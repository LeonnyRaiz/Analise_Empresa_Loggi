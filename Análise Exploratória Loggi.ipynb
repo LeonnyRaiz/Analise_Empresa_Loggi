{
 "cells": [
  {
   "cell_type": "markdown",
   "id": "5dc9c2ec",
   "metadata": {
    "id": "QRcqbpLpFK5o",
    "papermill": {
     "duration": 0.014303,
     "end_time": "2023-08-29T03:18:36.170499",
     "exception": false,
     "start_time": "2023-08-29T03:18:36.156196",
     "status": "completed"
    },
    "tags": []
   },
   "source": [
    "# **Análise Exploratória de Dados de Logística**"
   ]
  },
  {
   "cell_type": "markdown",
   "id": "44a1950a",
   "metadata": {
    "id": "6-CvdKwqFPiW",
    "papermill": {
     "duration": 0.014341,
     "end_time": "2023-08-29T03:18:36.198560",
     "exception": false,
     "start_time": "2023-08-29T03:18:36.184219",
     "status": "completed"
    },
    "tags": []
   },
   "source": [
    "## 1\\. Contexto"
   ]
  },
  {
   "cell_type": "markdown",
   "id": "b2c97d9d",
   "metadata": {
    "id": "XRURE1uUFXGw",
    "papermill": {
     "duration": 0.0155,
     "end_time": "2023-08-29T03:18:36.227058",
     "exception": false,
     "start_time": "2023-08-29T03:18:36.211558",
     "status": "completed"
    },
    "tags": []
   },
   "source": [
    "Alocando pontos de entrega da transportadora Loggi aos seus respectivos veículos e regiões. Os dados estavam em uma estrutura JSON, bastante aninhados. Então foi feito um processo, principalmente a operação do flatten para transformar cada chave do JSON em uma nova coluna.Além disso trouxemos a vizualização desses dados em forma de mapa, afim de gerar vários insights sobre o problema"
   ]
  },
  {
   "cell_type": "markdown",
   "id": "ba582113",
   "metadata": {
    "id": "VIKfIeXq6V-2",
    "papermill": {
     "duration": 0.012991,
     "end_time": "2023-08-29T03:18:36.253823",
     "exception": false,
     "start_time": "2023-08-29T03:18:36.240832",
     "status": "completed"
    },
    "tags": []
   },
   "source": [
    "```json\n",
    "[\n",
    "  {\n",
    "    \"name\": \"cvrp-0-df-0\",\n",
    "    \"region\": \"df-0\",\n",
    "    \"origin\": {\"lng\": -47.802664728268745, \"lat\": -15.657013854445248},\n",
    "    \"vehicle_capacity\": 180,\n",
    "    \"deliveries\": [\n",
    "      {\n",
    "        \"id\": \"ed0993f8cc70d998342f38ee827176dc\",\n",
    "        \"point\": {\"lng\": -47.7496622016347, \"lat\": -15.65879313293694},\n",
    "        \"size\": 10\n",
    "      },\n",
    "      {\n",
    "        \"id\": \"c7220154adc7a3def8f0b2b8a42677a9\",\n",
    "        \"point\": {\"lng\": -47.75887552060412, \"lat\": -15.651440380492554},\n",
    "        \"size\": 10\n",
    "      },\n",
    "      ...\n",
    "    ]\n",
    "  }\n",
    "]\n",
    "...\n"
   ]
  },
  {
   "cell_type": "markdown",
   "id": "5292117a",
   "metadata": {
    "id": "QxukLHaqFnkU",
    "papermill": {
     "duration": 0.014323,
     "end_time": "2023-08-29T03:18:36.281526",
     "exception": false,
     "start_time": "2023-08-29T03:18:36.267203",
     "status": "completed"
    },
    "tags": []
   },
   "source": [
    "## 2\\. Pacotes e bibliotecas"
   ]
  },
  {
   "cell_type": "code",
   "execution_count": 1,
   "id": "20b9da37",
   "metadata": {
    "execution": {
     "iopub.execute_input": "2023-08-29T03:18:36.309568Z",
     "iopub.status.busy": "2023-08-29T03:18:36.309006Z",
     "iopub.status.idle": "2023-08-29T03:18:53.737883Z",
     "shell.execute_reply": "2023-08-29T03:18:53.736177Z"
    },
    "id": "VXUEW0VrF7XW",
    "outputId": "c0ebad78-3a8f-4214-c0d3-fb4ec6d9eb67",
    "papermill": {
     "duration": 17.446445,
     "end_time": "2023-08-29T03:18:53.740959",
     "exception": false,
     "start_time": "2023-08-29T03:18:36.294514",
     "status": "completed"
    },
    "tags": []
   },
   "outputs": [
    {
     "name": "stdout",
     "output_type": "stream",
     "text": [
      "Requirement already satisfied: geopandas in /opt/conda/lib/python3.10/site-packages (0.13.2)\r\n",
      "Requirement already satisfied: fiona>=1.8.19 in /opt/conda/lib/python3.10/site-packages (from geopandas) (1.9.4.post1)\r\n",
      "Requirement already satisfied: packaging in /opt/conda/lib/python3.10/site-packages (from geopandas) (21.3)\r\n",
      "Requirement already satisfied: pandas>=1.1.0 in /opt/conda/lib/python3.10/site-packages (from geopandas) (1.5.3)\r\n",
      "Requirement already satisfied: pyproj>=3.0.1 in /opt/conda/lib/python3.10/site-packages (from geopandas) (3.6.0)\r\n",
      "Requirement already satisfied: shapely>=1.7.1 in /opt/conda/lib/python3.10/site-packages (from geopandas) (1.8.5.post1)\r\n",
      "Requirement already satisfied: attrs>=19.2.0 in /opt/conda/lib/python3.10/site-packages (from fiona>=1.8.19->geopandas) (23.1.0)\r\n",
      "Requirement already satisfied: certifi in /opt/conda/lib/python3.10/site-packages (from fiona>=1.8.19->geopandas) (2023.5.7)\r\n",
      "Requirement already satisfied: click~=8.0 in /opt/conda/lib/python3.10/site-packages (from fiona>=1.8.19->geopandas) (8.1.3)\r\n",
      "Requirement already satisfied: click-plugins>=1.0 in /opt/conda/lib/python3.10/site-packages (from fiona>=1.8.19->geopandas) (1.1.1)\r\n",
      "Requirement already satisfied: cligj>=0.5 in /opt/conda/lib/python3.10/site-packages (from fiona>=1.8.19->geopandas) (0.7.2)\r\n",
      "Requirement already satisfied: six in /opt/conda/lib/python3.10/site-packages (from fiona>=1.8.19->geopandas) (1.16.0)\r\n",
      "Requirement already satisfied: python-dateutil>=2.8.1 in /opt/conda/lib/python3.10/site-packages (from pandas>=1.1.0->geopandas) (2.8.2)\r\n",
      "Requirement already satisfied: pytz>=2020.1 in /opt/conda/lib/python3.10/site-packages (from pandas>=1.1.0->geopandas) (2023.3)\r\n",
      "Requirement already satisfied: numpy>=1.21.0 in /opt/conda/lib/python3.10/site-packages (from pandas>=1.1.0->geopandas) (1.23.5)\r\n",
      "Requirement already satisfied: pyparsing!=3.0.5,>=2.0.2 in /opt/conda/lib/python3.10/site-packages (from packaging->geopandas) (3.0.9)\r\n"
     ]
    },
    {
     "name": "stderr",
     "output_type": "stream",
     "text": [
      "/opt/conda/lib/python3.10/site-packages/scipy/__init__.py:146: UserWarning: A NumPy version >=1.16.5 and <1.23.0 is required for this version of SciPy (detected version 1.23.5\n",
      "  warnings.warn(f\"A NumPy version >={np_minversion} and <{np_maxversion}\"\n"
     ]
    }
   ],
   "source": [
    "# - 1º pacotes nativos do python: json, os, etc.;\n",
    "import json\n",
    "import geopy\n",
    "from geopy.geocoders import Nominatim\n",
    "from geopy.extra.rate_limiter import RateLimiter\n",
    "import numpy as np\n",
    "!pip3 install geopandas;\n",
    "import geopandas\n",
    "import matplotlib.pyplot as plt\n",
    "# - 2º pacotes de terceiros: pandas, seabornm etc.;\n",
    "import pandas as pd\n",
    "import seaborn as sns\n"
   ]
  },
  {
   "cell_type": "markdown",
   "id": "b5919290",
   "metadata": {
    "id": "irQxHW1zGkdZ",
    "papermill": {
     "duration": 0.013277,
     "end_time": "2023-08-29T03:18:53.767997",
     "exception": false,
     "start_time": "2023-08-29T03:18:53.754720",
     "status": "completed"
    },
    "tags": []
   },
   "source": [
    "## 3\\. Exploração de dados"
   ]
  },
  {
   "cell_type": "code",
   "execution_count": 2,
   "id": "194d5426",
   "metadata": {
    "execution": {
     "iopub.execute_input": "2023-08-29T03:18:53.797939Z",
     "iopub.status.busy": "2023-08-29T03:18:53.796370Z",
     "iopub.status.idle": "2023-08-29T03:19:08.018411Z",
     "shell.execute_reply": "2023-08-29T03:19:08.017073Z"
    },
    "id": "fFZkW2gfmRuq",
    "papermill": {
     "duration": 14.239527,
     "end_time": "2023-08-29T03:19:08.021314",
     "exception": false,
     "start_time": "2023-08-29T03:18:53.781787",
     "status": "completed"
    },
    "tags": []
   },
   "outputs": [],
   "source": [
    "!wget -q \"https://raw.githubusercontent.com/andre-marcos-perez/ebac-course-utils/main/dataset/deliveries.json\" -O deliveries.json\n"
   ]
  },
  {
   "cell_type": "code",
   "execution_count": 3,
   "id": "eccd6ee0",
   "metadata": {
    "execution": {
     "iopub.execute_input": "2023-08-29T03:19:08.050380Z",
     "iopub.status.busy": "2023-08-29T03:19:08.049903Z",
     "iopub.status.idle": "2023-08-29T03:19:13.416696Z",
     "shell.execute_reply": "2023-08-29T03:19:13.415170Z"
    },
    "id": "lxLj8e0GHAnr",
    "outputId": "de9d29c4-a4cc-49fe-9094-b2bb27adb963",
    "papermill": {
     "duration": 5.385205,
     "end_time": "2023-08-29T03:19:13.419767",
     "exception": false,
     "start_time": "2023-08-29T03:19:08.034562",
     "status": "completed"
    },
    "tags": []
   },
   "outputs": [
    {
     "data": {
      "text/html": [
       "<div>\n",
       "<style scoped>\n",
       "    .dataframe tbody tr th:only-of-type {\n",
       "        vertical-align: middle;\n",
       "    }\n",
       "\n",
       "    .dataframe tbody tr th {\n",
       "        vertical-align: top;\n",
       "    }\n",
       "\n",
       "    .dataframe thead th {\n",
       "        text-align: right;\n",
       "    }\n",
       "</style>\n",
       "<table border=\"1\" class=\"dataframe\">\n",
       "  <thead>\n",
       "    <tr style=\"text-align: right;\">\n",
       "      <th></th>\n",
       "      <th>count</th>\n",
       "      <th>mean</th>\n",
       "      <th>std</th>\n",
       "      <th>min</th>\n",
       "      <th>25%</th>\n",
       "      <th>50%</th>\n",
       "      <th>75%</th>\n",
       "      <th>max</th>\n",
       "    </tr>\n",
       "  </thead>\n",
       "  <tbody>\n",
       "    <tr>\n",
       "      <th>vehicle_capacity</th>\n",
       "      <td>636149.0</td>\n",
       "      <td>180.000000</td>\n",
       "      <td>0.000000</td>\n",
       "      <td>180.0</td>\n",
       "      <td>180.0</td>\n",
       "      <td>180.0</td>\n",
       "      <td>180.0</td>\n",
       "      <td>180.0</td>\n",
       "    </tr>\n",
       "    <tr>\n",
       "      <th>delivery_size</th>\n",
       "      <td>636149.0</td>\n",
       "      <td>5.512111</td>\n",
       "      <td>2.874557</td>\n",
       "      <td>1.0</td>\n",
       "      <td>3.0</td>\n",
       "      <td>6.0</td>\n",
       "      <td>8.0</td>\n",
       "      <td>10.0</td>\n",
       "    </tr>\n",
       "  </tbody>\n",
       "</table>\n",
       "</div>"
      ],
      "text/plain": [
       "                     count        mean       std    min    25%    50%    75%  \\\n",
       "vehicle_capacity  636149.0  180.000000  0.000000  180.0  180.0  180.0  180.0   \n",
       "delivery_size     636149.0    5.512111  2.874557    1.0    3.0    6.0    8.0   \n",
       "\n",
       "                    max  \n",
       "vehicle_capacity  180.0  \n",
       "delivery_size      10.0  "
      ]
     },
     "execution_count": 3,
     "metadata": {},
     "output_type": "execute_result"
    }
   ],
   "source": [
    "# - coleta de dados;\n",
    "with open('deliveries.json', mode='r', encoding='utf8') as file:\n",
    "  data = json.load(file)\n",
    "\n",
    "# - wrangling da estrutura;\n",
    "\n",
    "deliveries_df = pd.DataFrame(data)\n",
    "\n",
    "# coluna origin\n",
    "\n",
    "hub_origin_df = pd.json_normalize(deliveries_df[\"origin\"])\n",
    "\n",
    "deliveries_df = pd.merge(left=deliveries_df, right=hub_origin_df, how='inner', left_index=True, right_index=True)\n",
    "deliveries_df = deliveries_df.drop(\"origin\", axis=1)\n",
    "deliveries_df = deliveries_df[[\"name\", \"region\", \"lng\", \"lat\", \"vehicle_capacity\", \"deliveries\"]]\n",
    "deliveries_df.rename(columns={\"lng\": \"hub_lng\", \"lat\": \"hub_lat\"}, inplace=True)\n",
    "\n",
    "# coluna deliveries\n",
    "\n",
    "deliveries_exploded_df = deliveries_df[[\"deliveries\"]].explode(\"deliveries\")\n",
    "\n",
    "deliveries_normalized_df = pd.concat([\n",
    "  pd.DataFrame(deliveries_exploded_df[\"deliveries\"].apply(lambda record: record[\"size\"])).rename(columns={\"deliveries\": \"delivery_size\"}),\n",
    "  pd.DataFrame(deliveries_exploded_df[\"deliveries\"].apply(lambda record: record[\"point\"][\"lng\"])).rename(columns={\"deliveries\": \"delivery_lng\"}),\n",
    "  pd.DataFrame(deliveries_exploded_df[\"deliveries\"].apply(lambda record: record[\"point\"][\"lat\"])).rename(columns={\"deliveries\": \"delivery_lat\"}),\n",
    "], axis= 1)\n",
    "\n",
    "deliveries_df = deliveries_df.drop(\"deliveries\", axis=1)\n",
    "deliveries_df = pd.merge(left=deliveries_df, right=deliveries_normalized_df, how='right', left_index=True, right_index=True)\n",
    "deliveries_df.reset_index(inplace=True, drop=True)\n",
    "deliveries_df.head()\n",
    "# - exploração do schema;\n",
    "deliveries_df.head(n=5)\n",
    "deliveries_df.dtypes\n",
    "deliveries_df.select_dtypes(\"object\").describe().transpose()\n",
    "deliveries_df.drop([\"name\", \"region\"], axis=1).select_dtypes('int64').describe().transpose()"
   ]
  },
  {
   "cell_type": "markdown",
   "id": "89f5b64c",
   "metadata": {
    "id": "98hexQTyJS9I",
    "papermill": {
     "duration": 0.013046,
     "end_time": "2023-08-29T03:19:13.446642",
     "exception": false,
     "start_time": "2023-08-29T03:19:13.433596",
     "status": "completed"
    },
    "tags": []
   },
   "source": [
    "## 4\\. Manipulação"
   ]
  },
  {
   "cell_type": "markdown",
   "id": "ac5eb94e",
   "metadata": {
    "id": "F77YJsA5u_j0",
    "papermill": {
     "duration": 0.013021,
     "end_time": "2023-08-29T03:19:13.473054",
     "exception": false,
     "start_time": "2023-08-29T03:19:13.460033",
     "status": "completed"
    },
    "tags": []
   },
   "source": [
    "### **Enriquecimento**"
   ]
  },
  {
   "cell_type": "markdown",
   "id": "65d930fa",
   "metadata": {
    "id": "PLLI69JaqppW",
    "papermill": {
     "duration": 0.013764,
     "end_time": "2023-08-29T03:19:13.500280",
     "exception": false,
     "start_time": "2023-08-29T03:19:13.486516",
     "status": "completed"
    },
    "tags": []
   },
   "source": [
    "- **Geocodificação reversa do hub**"
   ]
  },
  {
   "cell_type": "code",
   "execution_count": 4,
   "id": "28357885",
   "metadata": {
    "execution": {
     "iopub.execute_input": "2023-08-29T03:19:13.528779Z",
     "iopub.status.busy": "2023-08-29T03:19:13.528373Z",
     "iopub.status.idle": "2023-08-29T03:19:13.667752Z",
     "shell.execute_reply": "2023-08-29T03:19:13.666478Z"
    },
    "id": "HfvxTm-QrG6v",
    "outputId": "7b7acd4e-b0e1-4fbb-ae10-3c1ed57d9399",
    "papermill": {
     "duration": 0.156886,
     "end_time": "2023-08-29T03:19:13.670619",
     "exception": false,
     "start_time": "2023-08-29T03:19:13.513733",
     "status": "completed"
    },
    "tags": []
   },
   "outputs": [
    {
     "data": {
      "text/html": [
       "<div>\n",
       "<style scoped>\n",
       "    .dataframe tbody tr th:only-of-type {\n",
       "        vertical-align: middle;\n",
       "    }\n",
       "\n",
       "    .dataframe tbody tr th {\n",
       "        vertical-align: top;\n",
       "    }\n",
       "\n",
       "    .dataframe thead th {\n",
       "        text-align: right;\n",
       "    }\n",
       "</style>\n",
       "<table border=\"1\" class=\"dataframe\">\n",
       "  <thead>\n",
       "    <tr style=\"text-align: right;\">\n",
       "      <th></th>\n",
       "      <th>region</th>\n",
       "      <th>hub_lng</th>\n",
       "      <th>hub_lat</th>\n",
       "    </tr>\n",
       "  </thead>\n",
       "  <tbody>\n",
       "    <tr>\n",
       "      <th>0</th>\n",
       "      <td>df-0</td>\n",
       "      <td>-47.802665</td>\n",
       "      <td>-15.657014</td>\n",
       "    </tr>\n",
       "    <tr>\n",
       "      <th>1</th>\n",
       "      <td>df-1</td>\n",
       "      <td>-47.893662</td>\n",
       "      <td>-15.805118</td>\n",
       "    </tr>\n",
       "    <tr>\n",
       "      <th>2</th>\n",
       "      <td>df-2</td>\n",
       "      <td>-48.054989</td>\n",
       "      <td>-15.838145</td>\n",
       "    </tr>\n",
       "  </tbody>\n",
       "</table>\n",
       "</div>"
      ],
      "text/plain": [
       "  region    hub_lng    hub_lat\n",
       "0   df-0 -47.802665 -15.657014\n",
       "1   df-1 -47.893662 -15.805118\n",
       "2   df-2 -48.054989 -15.838145"
      ]
     },
     "execution_count": 4,
     "metadata": {},
     "output_type": "execute_result"
    }
   ],
   "source": [
    "hub_df = deliveries_df[[\"region\", \"hub_lng\", \"hub_lat\"]]\n",
    "hub_df = hub_df.drop_duplicates().sort_values(by=\"region\").reset_index(drop=True)\n",
    "hub_df.head()"
   ]
  },
  {
   "cell_type": "code",
   "execution_count": 5,
   "id": "8bf31f3e",
   "metadata": {
    "execution": {
     "iopub.execute_input": "2023-08-29T03:19:13.699990Z",
     "iopub.status.busy": "2023-08-29T03:19:13.699586Z",
     "iopub.status.idle": "2023-08-29T03:19:14.617946Z",
     "shell.execute_reply": "2023-08-29T03:19:14.616667Z"
    },
    "id": "_C5xsf8rqBUb",
    "outputId": "2a91e72c-ed68-4eed-a722-2b6640632896",
    "papermill": {
     "duration": 0.935926,
     "end_time": "2023-08-29T03:19:14.620593",
     "exception": false,
     "start_time": "2023-08-29T03:19:13.684667",
     "status": "completed"
    },
    "tags": []
   },
   "outputs": [
    {
     "name": "stdout",
     "output_type": "stream",
     "text": [
      "{\n",
      "  \"place_id\": 167787669,\n",
      "  \"licence\": \"Data © OpenStreetMap contributors, ODbL 1.0. http://osm.org/copyright\",\n",
      "  \"osm_type\": \"way\",\n",
      "  \"osm_id\": 240210480,\n",
      "  \"lat\": \"-15.656916027876347\",\n",
      "  \"lon\": \"-47.80264463632131\",\n",
      "  \"class\": \"highway\",\n",
      "  \"type\": \"secondary\",\n",
      "  \"place_rank\": 26,\n",
      "  \"importance\": 0.10000999999999993,\n",
      "  \"addresstype\": \"road\",\n",
      "  \"name\": \"Rua 7\",\n",
      "  \"display_name\": \"Rua 7, Quadra 2, Sobradinho, Região Geográfica Imediata do Distrito Federal, Região Integrada de Desenvolvimento do Distrito Federal e Entorno, Região Geográfica Intermediária do Distrito Federal, Distrito Federal, Região Centro-Oeste, 73015-202, Brasil\",\n",
      "  \"address\": {\n",
      "    \"road\": \"Rua 7\",\n",
      "    \"residential\": \"Quadra 2\",\n",
      "    \"suburb\": \"Sobradinho\",\n",
      "    \"town\": \"Sobradinho\",\n",
      "    \"municipality\": \"Região Geográfica Imediata do Distrito Federal\",\n",
      "    \"county\": \"Região Integrada de Desenvolvimento do Distrito Federal e Entorno\",\n",
      "    \"state_district\": \"Região Geográfica Intermediária do Distrito Federal\",\n",
      "    \"state\": \"Distrito Federal\",\n",
      "    \"ISO3166-2-lvl4\": \"BR-DF\",\n",
      "    \"region\": \"Região Centro-Oeste\",\n",
      "    \"postcode\": \"73015-202\",\n",
      "    \"country\": \"Brasil\",\n",
      "    \"country_code\": \"br\"\n",
      "  },\n",
      "  \"boundingbox\": [\n",
      "    \"-15.6572841\",\n",
      "    \"-15.6565043\",\n",
      "    \"-47.8047361\",\n",
      "    \"-47.8007862\"\n",
      "  ]\n",
      "}\n"
     ]
    }
   ],
   "source": [
    "geolocator = Nominatim(user_agent=\"ebac_geocoder\")\n",
    "location = geolocator.reverse(\"-15.657013854445248, -47.802664728268745\")\n",
    "\n",
    "print(json.dumps(location.raw, indent=2, ensure_ascii=False))"
   ]
  },
  {
   "cell_type": "markdown",
   "id": "2025ee3f",
   "metadata": {
    "id": "TylsS-IcwzBk",
    "papermill": {
     "duration": 0.013388,
     "end_time": "2023-08-29T03:19:14.648224",
     "exception": false,
     "start_time": "2023-08-29T03:19:14.634836",
     "status": "completed"
    },
    "tags": []
   },
   "source": [
    "Vamos então aplicar a geocodificação nas coordenadas das três regiões e extrair informações de **cidade** e **bairro**."
   ]
  },
  {
   "cell_type": "code",
   "execution_count": 6,
   "id": "94904f49",
   "metadata": {
    "execution": {
     "iopub.execute_input": "2023-08-29T03:19:14.677644Z",
     "iopub.status.busy": "2023-08-29T03:19:14.677210Z",
     "iopub.status.idle": "2023-08-29T03:19:16.958679Z",
     "shell.execute_reply": "2023-08-29T03:19:16.957747Z"
    },
    "id": "lNd9JPEWpvBD",
    "outputId": "b58db35c-f50c-4b64-e47d-f325bf670fa5",
    "papermill": {
     "duration": 2.299175,
     "end_time": "2023-08-29T03:19:16.961216",
     "exception": false,
     "start_time": "2023-08-29T03:19:14.662041",
     "status": "completed"
    },
    "tags": []
   },
   "outputs": [
    {
     "data": {
      "text/html": [
       "<div>\n",
       "<style scoped>\n",
       "    .dataframe tbody tr th:only-of-type {\n",
       "        vertical-align: middle;\n",
       "    }\n",
       "\n",
       "    .dataframe tbody tr th {\n",
       "        vertical-align: top;\n",
       "    }\n",
       "\n",
       "    .dataframe thead th {\n",
       "        text-align: right;\n",
       "    }\n",
       "</style>\n",
       "<table border=\"1\" class=\"dataframe\">\n",
       "  <thead>\n",
       "    <tr style=\"text-align: right;\">\n",
       "      <th></th>\n",
       "      <th>region</th>\n",
       "      <th>hub_lng</th>\n",
       "      <th>hub_lat</th>\n",
       "      <th>coordinates</th>\n",
       "      <th>geodata</th>\n",
       "    </tr>\n",
       "  </thead>\n",
       "  <tbody>\n",
       "    <tr>\n",
       "      <th>0</th>\n",
       "      <td>df-0</td>\n",
       "      <td>-47.802665</td>\n",
       "      <td>-15.657014</td>\n",
       "      <td>-15.657013854445248, -47.802664728268745</td>\n",
       "      <td>(Rua 7, Quadra 2, Sobradinho, Região Geográfic...</td>\n",
       "    </tr>\n",
       "    <tr>\n",
       "      <th>1</th>\n",
       "      <td>df-1</td>\n",
       "      <td>-47.893662</td>\n",
       "      <td>-15.805118</td>\n",
       "      <td>-15.80511751066334, -47.89366206897872</td>\n",
       "      <td>(SQS 303, Asa Sul, Brasília, Plano Piloto, Reg...</td>\n",
       "    </tr>\n",
       "    <tr>\n",
       "      <th>2</th>\n",
       "      <td>df-2</td>\n",
       "      <td>-48.054989</td>\n",
       "      <td>-15.838145</td>\n",
       "      <td>-15.83814451122274, -48.05498915846707</td>\n",
       "      <td>(Armazém do Bolo, lote 4/8, CSB 4/5, Taguating...</td>\n",
       "    </tr>\n",
       "  </tbody>\n",
       "</table>\n",
       "</div>"
      ],
      "text/plain": [
       "  region    hub_lng    hub_lat                               coordinates  \\\n",
       "0   df-0 -47.802665 -15.657014  -15.657013854445248, -47.802664728268745   \n",
       "1   df-1 -47.893662 -15.805118    -15.80511751066334, -47.89366206897872   \n",
       "2   df-2 -48.054989 -15.838145    -15.83814451122274, -48.05498915846707   \n",
       "\n",
       "                                             geodata  \n",
       "0  (Rua 7, Quadra 2, Sobradinho, Região Geográfic...  \n",
       "1  (SQS 303, Asa Sul, Brasília, Plano Piloto, Reg...  \n",
       "2  (Armazém do Bolo, lote 4/8, CSB 4/5, Taguating...  "
      ]
     },
     "execution_count": 6,
     "metadata": {},
     "output_type": "execute_result"
    }
   ],
   "source": [
    "geocoder = RateLimiter(geolocator.reverse, min_delay_seconds=1)\n",
    "hub_df[\"coordinates\"] = hub_df[\"hub_lat\"].astype(str)  + \", \" + hub_df[\"hub_lng\"].astype(str)\n",
    "hub_df[\"geodata\"] = hub_df[\"coordinates\"].apply(geocoder)\n",
    "hub_df.head()"
   ]
  },
  {
   "cell_type": "code",
   "execution_count": 7,
   "id": "a6aa0498",
   "metadata": {
    "execution": {
     "iopub.execute_input": "2023-08-29T03:19:16.991997Z",
     "iopub.status.busy": "2023-08-29T03:19:16.991535Z",
     "iopub.status.idle": "2023-08-29T03:19:17.022507Z",
     "shell.execute_reply": "2023-08-29T03:19:17.021203Z"
    },
    "id": "usdLekgQqf74",
    "outputId": "09c93411-18f5-4f79-eb4a-33c0cc34eeb4",
    "papermill": {
     "duration": 0.049655,
     "end_time": "2023-08-29T03:19:17.025228",
     "exception": false,
     "start_time": "2023-08-29T03:19:16.975573",
     "status": "completed"
    },
    "tags": []
   },
   "outputs": [
    {
     "data": {
      "text/html": [
       "<div>\n",
       "<style scoped>\n",
       "    .dataframe tbody tr th:only-of-type {\n",
       "        vertical-align: middle;\n",
       "    }\n",
       "\n",
       "    .dataframe tbody tr th {\n",
       "        vertical-align: top;\n",
       "    }\n",
       "\n",
       "    .dataframe thead th {\n",
       "        text-align: right;\n",
       "    }\n",
       "</style>\n",
       "<table border=\"1\" class=\"dataframe\">\n",
       "  <thead>\n",
       "    <tr style=\"text-align: right;\">\n",
       "      <th></th>\n",
       "      <th>place_id</th>\n",
       "      <th>licence</th>\n",
       "      <th>osm_type</th>\n",
       "      <th>osm_id</th>\n",
       "      <th>lat</th>\n",
       "      <th>lon</th>\n",
       "      <th>class</th>\n",
       "      <th>type</th>\n",
       "      <th>place_rank</th>\n",
       "      <th>importance</th>\n",
       "      <th>...</th>\n",
       "      <th>address.state</th>\n",
       "      <th>address.ISO3166-2-lvl4</th>\n",
       "      <th>address.region</th>\n",
       "      <th>address.postcode</th>\n",
       "      <th>address.country</th>\n",
       "      <th>address.country_code</th>\n",
       "      <th>address.neighbourhood</th>\n",
       "      <th>address.city</th>\n",
       "      <th>address.shop</th>\n",
       "      <th>address.house_number</th>\n",
       "    </tr>\n",
       "  </thead>\n",
       "  <tbody>\n",
       "    <tr>\n",
       "      <th>0</th>\n",
       "      <td>167787669</td>\n",
       "      <td>Data © OpenStreetMap contributors, ODbL 1.0. h...</td>\n",
       "      <td>way</td>\n",
       "      <td>240210480</td>\n",
       "      <td>-15.656916027876347</td>\n",
       "      <td>-47.80264463632131</td>\n",
       "      <td>highway</td>\n",
       "      <td>secondary</td>\n",
       "      <td>26</td>\n",
       "      <td>0.10001</td>\n",
       "      <td>...</td>\n",
       "      <td>Distrito Federal</td>\n",
       "      <td>BR-DF</td>\n",
       "      <td>Região Centro-Oeste</td>\n",
       "      <td>73015-202</td>\n",
       "      <td>Brasil</td>\n",
       "      <td>br</td>\n",
       "      <td>NaN</td>\n",
       "      <td>NaN</td>\n",
       "      <td>NaN</td>\n",
       "      <td>NaN</td>\n",
       "    </tr>\n",
       "    <tr>\n",
       "      <th>1</th>\n",
       "      <td>123692619</td>\n",
       "      <td>Data © OpenStreetMap contributors, ODbL 1.0. h...</td>\n",
       "      <td>way</td>\n",
       "      <td>66353368</td>\n",
       "      <td>-15.805172757199022</td>\n",
       "      <td>-47.893723539491205</td>\n",
       "      <td>highway</td>\n",
       "      <td>residential</td>\n",
       "      <td>26</td>\n",
       "      <td>0.10001</td>\n",
       "      <td>...</td>\n",
       "      <td>Distrito Federal</td>\n",
       "      <td>BR-DF</td>\n",
       "      <td>Região Centro-Oeste</td>\n",
       "      <td>70342-010</td>\n",
       "      <td>Brasil</td>\n",
       "      <td>br</td>\n",
       "      <td>SQS 303</td>\n",
       "      <td>Brasília</td>\n",
       "      <td>NaN</td>\n",
       "      <td>NaN</td>\n",
       "    </tr>\n",
       "    <tr>\n",
       "      <th>2</th>\n",
       "      <td>66836523</td>\n",
       "      <td>Data © OpenStreetMap contributors, ODbL 1.0. h...</td>\n",
       "      <td>node</td>\n",
       "      <td>6249717596</td>\n",
       "      <td>-15.8384371</td>\n",
       "      <td>-48.0552917</td>\n",
       "      <td>shop</td>\n",
       "      <td>pastry</td>\n",
       "      <td>30</td>\n",
       "      <td>0.00001</td>\n",
       "      <td>...</td>\n",
       "      <td>Distrito Federal</td>\n",
       "      <td>BR-DF</td>\n",
       "      <td>Região Centro-Oeste</td>\n",
       "      <td>72015-030</td>\n",
       "      <td>Brasil</td>\n",
       "      <td>br</td>\n",
       "      <td>NaN</td>\n",
       "      <td>Taguatinga</td>\n",
       "      <td>Armazém do Bolo</td>\n",
       "      <td>lote 4/8</td>\n",
       "    </tr>\n",
       "  </tbody>\n",
       "</table>\n",
       "<p>3 rows × 31 columns</p>\n",
       "</div>"
      ],
      "text/plain": [
       "    place_id                                            licence osm_type  \\\n",
       "0  167787669  Data © OpenStreetMap contributors, ODbL 1.0. h...      way   \n",
       "1  123692619  Data © OpenStreetMap contributors, ODbL 1.0. h...      way   \n",
       "2   66836523  Data © OpenStreetMap contributors, ODbL 1.0. h...     node   \n",
       "\n",
       "       osm_id                  lat                  lon    class         type  \\\n",
       "0   240210480  -15.656916027876347   -47.80264463632131  highway    secondary   \n",
       "1    66353368  -15.805172757199022  -47.893723539491205  highway  residential   \n",
       "2  6249717596          -15.8384371          -48.0552917     shop       pastry   \n",
       "\n",
       "   place_rank  importance  ...     address.state address.ISO3166-2-lvl4  \\\n",
       "0          26     0.10001  ...  Distrito Federal                  BR-DF   \n",
       "1          26     0.10001  ...  Distrito Federal                  BR-DF   \n",
       "2          30     0.00001  ...  Distrito Federal                  BR-DF   \n",
       "\n",
       "        address.region address.postcode address.country address.country_code  \\\n",
       "0  Região Centro-Oeste        73015-202          Brasil                   br   \n",
       "1  Região Centro-Oeste        70342-010          Brasil                   br   \n",
       "2  Região Centro-Oeste        72015-030          Brasil                   br   \n",
       "\n",
       "  address.neighbourhood address.city     address.shop address.house_number  \n",
       "0                   NaN          NaN              NaN                  NaN  \n",
       "1               SQS 303     Brasília              NaN                  NaN  \n",
       "2                   NaN   Taguatinga  Armazém do Bolo             lote 4/8  \n",
       "\n",
       "[3 rows x 31 columns]"
      ]
     },
     "execution_count": 7,
     "metadata": {},
     "output_type": "execute_result"
    }
   ],
   "source": [
    "hub_geodata_df = pd.json_normalize(hub_df[\"geodata\"].apply(lambda data: data.raw))\n",
    "hub_geodata_df.head()"
   ]
  },
  {
   "cell_type": "code",
   "execution_count": 8,
   "id": "4c6728dd",
   "metadata": {
    "execution": {
     "iopub.execute_input": "2023-08-29T03:19:17.056200Z",
     "iopub.status.busy": "2023-08-29T03:19:17.055779Z",
     "iopub.status.idle": "2023-08-29T03:19:17.073617Z",
     "shell.execute_reply": "2023-08-29T03:19:17.072431Z"
    },
    "id": "U_03ypMIqiK7",
    "outputId": "1e18de4c-80d1-455a-daec-461d75888142",
    "papermill": {
     "duration": 0.036209,
     "end_time": "2023-08-29T03:19:17.076072",
     "exception": false,
     "start_time": "2023-08-29T03:19:17.039863",
     "status": "completed"
    },
    "tags": []
   },
   "outputs": [
    {
     "data": {
      "text/html": [
       "<div>\n",
       "<style scoped>\n",
       "    .dataframe tbody tr th:only-of-type {\n",
       "        vertical-align: middle;\n",
       "    }\n",
       "\n",
       "    .dataframe tbody tr th {\n",
       "        vertical-align: top;\n",
       "    }\n",
       "\n",
       "    .dataframe thead th {\n",
       "        text-align: right;\n",
       "    }\n",
       "</style>\n",
       "<table border=\"1\" class=\"dataframe\">\n",
       "  <thead>\n",
       "    <tr style=\"text-align: right;\">\n",
       "      <th></th>\n",
       "      <th>hub_suburb</th>\n",
       "      <th>hub_city</th>\n",
       "    </tr>\n",
       "  </thead>\n",
       "  <tbody>\n",
       "    <tr>\n",
       "      <th>0</th>\n",
       "      <td>Sobradinho</td>\n",
       "      <td>Sobradinho</td>\n",
       "    </tr>\n",
       "    <tr>\n",
       "      <th>1</th>\n",
       "      <td>Asa Sul</td>\n",
       "      <td>Brasília</td>\n",
       "    </tr>\n",
       "    <tr>\n",
       "      <th>2</th>\n",
       "      <td>Taguatinga</td>\n",
       "      <td>Taguatinga</td>\n",
       "    </tr>\n",
       "  </tbody>\n",
       "</table>\n",
       "</div>"
      ],
      "text/plain": [
       "   hub_suburb    hub_city\n",
       "0  Sobradinho  Sobradinho\n",
       "1     Asa Sul    Brasília\n",
       "2  Taguatinga  Taguatinga"
      ]
     },
     "execution_count": 8,
     "metadata": {},
     "output_type": "execute_result"
    }
   ],
   "source": [
    "hub_geodata_df = hub_geodata_df[[\"address.town\", \"address.suburb\", \"address.city\"]]\n",
    "hub_geodata_df.rename(columns={\"address.town\": \"hub_town\", \"address.suburb\": \"hub_suburb\", \"address.city\": \"hub_city\"}, inplace=True)\n",
    "hub_geodata_df[\"hub_city\"] = np.where(hub_geodata_df[\"hub_city\"].notna(), hub_geodata_df[\"hub_city\"], hub_geodata_df[\"hub_town\"])\n",
    "hub_geodata_df[\"hub_suburb\"] = np.where(hub_geodata_df[\"hub_suburb\"].notna(), hub_geodata_df[\"hub_suburb\"], hub_geodata_df[\"hub_city\"])\n",
    "hub_geodata_df = hub_geodata_df.drop(\"hub_town\", axis=1)\n",
    "hub_geodata_df.head()"
   ]
  },
  {
   "cell_type": "code",
   "execution_count": 9,
   "id": "f7f528dd",
   "metadata": {
    "execution": {
     "iopub.execute_input": "2023-08-29T03:19:17.107521Z",
     "iopub.status.busy": "2023-08-29T03:19:17.107082Z",
     "iopub.status.idle": "2023-08-29T03:19:17.127167Z",
     "shell.execute_reply": "2023-08-29T03:19:17.125602Z"
    },
    "id": "3aGXEsHRqrGH",
    "outputId": "0d035281-2736-4890-f505-51acdcf0fb17",
    "papermill": {
     "duration": 0.041151,
     "end_time": "2023-08-29T03:19:17.132129",
     "exception": false,
     "start_time": "2023-08-29T03:19:17.090978",
     "status": "completed"
    },
    "tags": []
   },
   "outputs": [
    {
     "data": {
      "text/html": [
       "<div>\n",
       "<style scoped>\n",
       "    .dataframe tbody tr th:only-of-type {\n",
       "        vertical-align: middle;\n",
       "    }\n",
       "\n",
       "    .dataframe tbody tr th {\n",
       "        vertical-align: top;\n",
       "    }\n",
       "\n",
       "    .dataframe thead th {\n",
       "        text-align: right;\n",
       "    }\n",
       "</style>\n",
       "<table border=\"1\" class=\"dataframe\">\n",
       "  <thead>\n",
       "    <tr style=\"text-align: right;\">\n",
       "      <th></th>\n",
       "      <th>region</th>\n",
       "      <th>hub_suburb</th>\n",
       "      <th>hub_city</th>\n",
       "    </tr>\n",
       "  </thead>\n",
       "  <tbody>\n",
       "    <tr>\n",
       "      <th>0</th>\n",
       "      <td>df-0</td>\n",
       "      <td>Sobradinho</td>\n",
       "      <td>Sobradinho</td>\n",
       "    </tr>\n",
       "    <tr>\n",
       "      <th>1</th>\n",
       "      <td>df-1</td>\n",
       "      <td>Asa Sul</td>\n",
       "      <td>Brasília</td>\n",
       "    </tr>\n",
       "    <tr>\n",
       "      <th>2</th>\n",
       "      <td>df-2</td>\n",
       "      <td>Taguatinga</td>\n",
       "      <td>Taguatinga</td>\n",
       "    </tr>\n",
       "  </tbody>\n",
       "</table>\n",
       "</div>"
      ],
      "text/plain": [
       "  region  hub_suburb    hub_city\n",
       "0   df-0  Sobradinho  Sobradinho\n",
       "1   df-1     Asa Sul    Brasília\n",
       "2   df-2  Taguatinga  Taguatinga"
      ]
     },
     "execution_count": 9,
     "metadata": {},
     "output_type": "execute_result"
    }
   ],
   "source": [
    "hub_df = pd.merge(left=hub_df, right=hub_geodata_df, left_index=True, right_index=True)\n",
    "hub_df = hub_df[[\"region\", \"hub_suburb\", \"hub_city\"]]\n",
    "hub_df.head()"
   ]
  },
  {
   "cell_type": "code",
   "execution_count": 10,
   "id": "98580a56",
   "metadata": {
    "execution": {
     "iopub.execute_input": "2023-08-29T03:19:17.169468Z",
     "iopub.status.busy": "2023-08-29T03:19:17.168733Z",
     "iopub.status.idle": "2023-08-29T03:19:17.567309Z",
     "shell.execute_reply": "2023-08-29T03:19:17.566324Z"
    },
    "id": "ZdEpFenPqxkP",
    "outputId": "6a2e4dd2-916d-4f92-e577-2a857f59ab11",
    "papermill": {
     "duration": 0.421953,
     "end_time": "2023-08-29T03:19:17.570497",
     "exception": false,
     "start_time": "2023-08-29T03:19:17.148544",
     "status": "completed"
    },
    "tags": []
   },
   "outputs": [
    {
     "data": {
      "text/html": [
       "<div>\n",
       "<style scoped>\n",
       "    .dataframe tbody tr th:only-of-type {\n",
       "        vertical-align: middle;\n",
       "    }\n",
       "\n",
       "    .dataframe tbody tr th {\n",
       "        vertical-align: top;\n",
       "    }\n",
       "\n",
       "    .dataframe thead th {\n",
       "        text-align: right;\n",
       "    }\n",
       "</style>\n",
       "<table border=\"1\" class=\"dataframe\">\n",
       "  <thead>\n",
       "    <tr style=\"text-align: right;\">\n",
       "      <th></th>\n",
       "      <th>name</th>\n",
       "      <th>region</th>\n",
       "      <th>hub_lng</th>\n",
       "      <th>hub_lat</th>\n",
       "      <th>hub_city</th>\n",
       "      <th>hub_suburb</th>\n",
       "      <th>vehicle_capacity</th>\n",
       "      <th>delivery_size</th>\n",
       "      <th>delivery_lng</th>\n",
       "      <th>delivery_lat</th>\n",
       "    </tr>\n",
       "  </thead>\n",
       "  <tbody>\n",
       "    <tr>\n",
       "      <th>0</th>\n",
       "      <td>cvrp-2-df-33</td>\n",
       "      <td>df-2</td>\n",
       "      <td>-48.054989</td>\n",
       "      <td>-15.838145</td>\n",
       "      <td>Taguatinga</td>\n",
       "      <td>Taguatinga</td>\n",
       "      <td>180</td>\n",
       "      <td>9</td>\n",
       "      <td>-48.116189</td>\n",
       "      <td>-15.848929</td>\n",
       "    </tr>\n",
       "    <tr>\n",
       "      <th>1</th>\n",
       "      <td>cvrp-2-df-33</td>\n",
       "      <td>df-2</td>\n",
       "      <td>-48.054989</td>\n",
       "      <td>-15.838145</td>\n",
       "      <td>Taguatinga</td>\n",
       "      <td>Taguatinga</td>\n",
       "      <td>180</td>\n",
       "      <td>2</td>\n",
       "      <td>-48.118195</td>\n",
       "      <td>-15.850772</td>\n",
       "    </tr>\n",
       "    <tr>\n",
       "      <th>2</th>\n",
       "      <td>cvrp-2-df-33</td>\n",
       "      <td>df-2</td>\n",
       "      <td>-48.054989</td>\n",
       "      <td>-15.838145</td>\n",
       "      <td>Taguatinga</td>\n",
       "      <td>Taguatinga</td>\n",
       "      <td>180</td>\n",
       "      <td>1</td>\n",
       "      <td>-48.112483</td>\n",
       "      <td>-15.847871</td>\n",
       "    </tr>\n",
       "    <tr>\n",
       "      <th>3</th>\n",
       "      <td>cvrp-2-df-33</td>\n",
       "      <td>df-2</td>\n",
       "      <td>-48.054989</td>\n",
       "      <td>-15.838145</td>\n",
       "      <td>Taguatinga</td>\n",
       "      <td>Taguatinga</td>\n",
       "      <td>180</td>\n",
       "      <td>2</td>\n",
       "      <td>-48.118023</td>\n",
       "      <td>-15.846471</td>\n",
       "    </tr>\n",
       "    <tr>\n",
       "      <th>4</th>\n",
       "      <td>cvrp-2-df-33</td>\n",
       "      <td>df-2</td>\n",
       "      <td>-48.054989</td>\n",
       "      <td>-15.838145</td>\n",
       "      <td>Taguatinga</td>\n",
       "      <td>Taguatinga</td>\n",
       "      <td>180</td>\n",
       "      <td>7</td>\n",
       "      <td>-48.114898</td>\n",
       "      <td>-15.858055</td>\n",
       "    </tr>\n",
       "  </tbody>\n",
       "</table>\n",
       "</div>"
      ],
      "text/plain": [
       "           name region    hub_lng    hub_lat    hub_city  hub_suburb  \\\n",
       "0  cvrp-2-df-33   df-2 -48.054989 -15.838145  Taguatinga  Taguatinga   \n",
       "1  cvrp-2-df-33   df-2 -48.054989 -15.838145  Taguatinga  Taguatinga   \n",
       "2  cvrp-2-df-33   df-2 -48.054989 -15.838145  Taguatinga  Taguatinga   \n",
       "3  cvrp-2-df-33   df-2 -48.054989 -15.838145  Taguatinga  Taguatinga   \n",
       "4  cvrp-2-df-33   df-2 -48.054989 -15.838145  Taguatinga  Taguatinga   \n",
       "\n",
       "   vehicle_capacity  delivery_size  delivery_lng  delivery_lat  \n",
       "0               180              9    -48.116189    -15.848929  \n",
       "1               180              2    -48.118195    -15.850772  \n",
       "2               180              1    -48.112483    -15.847871  \n",
       "3               180              2    -48.118023    -15.846471  \n",
       "4               180              7    -48.114898    -15.858055  "
      ]
     },
     "execution_count": 10,
     "metadata": {},
     "output_type": "execute_result"
    }
   ],
   "source": [
    "deliveries_df = pd.merge(left=deliveries_df, right=hub_df, how=\"inner\", on=\"region\")\n",
    "deliveries_df = deliveries_df[[\"name\", \"region\", \"hub_lng\", \"hub_lat\", \"hub_city\", \"hub_suburb\", \"vehicle_capacity\", \"delivery_size\", \"delivery_lng\", \"delivery_lat\"]]\n",
    "deliveries_df.head()"
   ]
  },
  {
   "cell_type": "markdown",
   "id": "c98db67c",
   "metadata": {
    "id": "xAez_U0jEurg",
    "papermill": {
     "duration": 0.015107,
     "end_time": "2023-08-29T03:19:17.603325",
     "exception": false,
     "start_time": "2023-08-29T03:19:17.588218",
     "status": "completed"
    },
    "tags": []
   },
   "source": [
    " - **Geocodificação reversa da entrega**"
   ]
  },
  {
   "cell_type": "code",
   "execution_count": 11,
   "id": "7f4c68a1",
   "metadata": {
    "execution": {
     "iopub.execute_input": "2023-08-29T03:19:17.637872Z",
     "iopub.status.busy": "2023-08-29T03:19:17.636481Z",
     "iopub.status.idle": "2023-08-29T03:19:19.406042Z",
     "shell.execute_reply": "2023-08-29T03:19:19.404756Z"
    },
    "id": "oC37ixf3q4uo",
    "papermill": {
     "duration": 1.789942,
     "end_time": "2023-08-29T03:19:19.409248",
     "exception": false,
     "start_time": "2023-08-29T03:19:17.619306",
     "status": "completed"
    },
    "tags": []
   },
   "outputs": [],
   "source": [
    "!wget -q \"https://raw.githubusercontent.com/andre-marcos-perez/ebac-course-utils/main/dataset/deliveries-geodata.csv\" -O deliveries-geodata.csv"
   ]
  },
  {
   "cell_type": "code",
   "execution_count": 12,
   "id": "896e4f70",
   "metadata": {
    "execution": {
     "iopub.execute_input": "2023-08-29T03:19:19.442419Z",
     "iopub.status.busy": "2023-08-29T03:19:19.441934Z",
     "iopub.status.idle": "2023-08-29T03:19:20.085598Z",
     "shell.execute_reply": "2023-08-29T03:19:20.084341Z"
    },
    "id": "2OQBhi-PrcCl",
    "outputId": "7c9d1f6a-2bc2-4162-c354-4a98148055c8",
    "papermill": {
     "duration": 0.664487,
     "end_time": "2023-08-29T03:19:20.088958",
     "exception": false,
     "start_time": "2023-08-29T03:19:19.424471",
     "status": "completed"
    },
    "tags": []
   },
   "outputs": [
    {
     "data": {
      "text/html": [
       "<div>\n",
       "<style scoped>\n",
       "    .dataframe tbody tr th:only-of-type {\n",
       "        vertical-align: middle;\n",
       "    }\n",
       "\n",
       "    .dataframe tbody tr th {\n",
       "        vertical-align: top;\n",
       "    }\n",
       "\n",
       "    .dataframe thead th {\n",
       "        text-align: right;\n",
       "    }\n",
       "</style>\n",
       "<table border=\"1\" class=\"dataframe\">\n",
       "  <thead>\n",
       "    <tr style=\"text-align: right;\">\n",
       "      <th></th>\n",
       "      <th>delivery_lng</th>\n",
       "      <th>delivery_lat</th>\n",
       "      <th>delivery_city</th>\n",
       "      <th>delivery_suburb</th>\n",
       "    </tr>\n",
       "  </thead>\n",
       "  <tbody>\n",
       "    <tr>\n",
       "      <th>0</th>\n",
       "      <td>-48.116189</td>\n",
       "      <td>-15.848929</td>\n",
       "      <td>Ceilândia</td>\n",
       "      <td>P Sul</td>\n",
       "    </tr>\n",
       "    <tr>\n",
       "      <th>1</th>\n",
       "      <td>-48.118195</td>\n",
       "      <td>-15.850772</td>\n",
       "      <td>Ceilândia</td>\n",
       "      <td>P Sul</td>\n",
       "    </tr>\n",
       "    <tr>\n",
       "      <th>2</th>\n",
       "      <td>-48.112483</td>\n",
       "      <td>-15.847871</td>\n",
       "      <td>Ceilândia</td>\n",
       "      <td>P Sul</td>\n",
       "    </tr>\n",
       "    <tr>\n",
       "      <th>3</th>\n",
       "      <td>-48.118023</td>\n",
       "      <td>-15.846471</td>\n",
       "      <td>Ceilândia</td>\n",
       "      <td>P Sul</td>\n",
       "    </tr>\n",
       "    <tr>\n",
       "      <th>4</th>\n",
       "      <td>-48.114898</td>\n",
       "      <td>-15.858055</td>\n",
       "      <td>Sol Nascente/Pôr do Sol</td>\n",
       "      <td>Sol Nascente/Pôr do Sol</td>\n",
       "    </tr>\n",
       "  </tbody>\n",
       "</table>\n",
       "</div>"
      ],
      "text/plain": [
       "   delivery_lng  delivery_lat            delivery_city  \\\n",
       "0    -48.116189    -15.848929                Ceilândia   \n",
       "1    -48.118195    -15.850772                Ceilândia   \n",
       "2    -48.112483    -15.847871                Ceilândia   \n",
       "3    -48.118023    -15.846471                Ceilândia   \n",
       "4    -48.114898    -15.858055  Sol Nascente/Pôr do Sol   \n",
       "\n",
       "           delivery_suburb  \n",
       "0                    P Sul  \n",
       "1                    P Sul  \n",
       "2                    P Sul  \n",
       "3                    P Sul  \n",
       "4  Sol Nascente/Pôr do Sol  "
      ]
     },
     "execution_count": 12,
     "metadata": {},
     "output_type": "execute_result"
    }
   ],
   "source": [
    "deliveries_geodata_df = pd.read_csv(\"deliveries-geodata.csv\")\n",
    "deliveries_geodata_df.head()"
   ]
  },
  {
   "cell_type": "code",
   "execution_count": 13,
   "id": "b7f3b37d",
   "metadata": {
    "execution": {
     "iopub.execute_input": "2023-08-29T03:19:20.122629Z",
     "iopub.status.busy": "2023-08-29T03:19:20.122129Z",
     "iopub.status.idle": "2023-08-29T03:19:20.242605Z",
     "shell.execute_reply": "2023-08-29T03:19:20.241375Z"
    },
    "id": "d_6yDb5UrfKA",
    "outputId": "1f108681-4461-4bc3-cabd-e5b25d55e559",
    "papermill": {
     "duration": 0.139947,
     "end_time": "2023-08-29T03:19:20.245397",
     "exception": false,
     "start_time": "2023-08-29T03:19:20.105450",
     "status": "completed"
    },
    "tags": []
   },
   "outputs": [
    {
     "data": {
      "text/html": [
       "<div>\n",
       "<style scoped>\n",
       "    .dataframe tbody tr th:only-of-type {\n",
       "        vertical-align: middle;\n",
       "    }\n",
       "\n",
       "    .dataframe tbody tr th {\n",
       "        vertical-align: top;\n",
       "    }\n",
       "\n",
       "    .dataframe thead th {\n",
       "        text-align: right;\n",
       "    }\n",
       "</style>\n",
       "<table border=\"1\" class=\"dataframe\">\n",
       "  <thead>\n",
       "    <tr style=\"text-align: right;\">\n",
       "      <th></th>\n",
       "      <th>name</th>\n",
       "      <th>region</th>\n",
       "      <th>hub_lng</th>\n",
       "      <th>hub_lat</th>\n",
       "      <th>hub_city</th>\n",
       "      <th>hub_suburb</th>\n",
       "      <th>vehicle_capacity</th>\n",
       "      <th>delivery_size</th>\n",
       "      <th>delivery_lng</th>\n",
       "      <th>delivery_lat</th>\n",
       "      <th>delivery_city</th>\n",
       "      <th>delivery_suburb</th>\n",
       "    </tr>\n",
       "  </thead>\n",
       "  <tbody>\n",
       "    <tr>\n",
       "      <th>0</th>\n",
       "      <td>cvrp-2-df-33</td>\n",
       "      <td>df-2</td>\n",
       "      <td>-48.054989</td>\n",
       "      <td>-15.838145</td>\n",
       "      <td>Taguatinga</td>\n",
       "      <td>Taguatinga</td>\n",
       "      <td>180</td>\n",
       "      <td>9</td>\n",
       "      <td>-48.116189</td>\n",
       "      <td>-15.848929</td>\n",
       "      <td>Ceilândia</td>\n",
       "      <td>P Sul</td>\n",
       "    </tr>\n",
       "    <tr>\n",
       "      <th>1</th>\n",
       "      <td>cvrp-2-df-33</td>\n",
       "      <td>df-2</td>\n",
       "      <td>-48.054989</td>\n",
       "      <td>-15.838145</td>\n",
       "      <td>Taguatinga</td>\n",
       "      <td>Taguatinga</td>\n",
       "      <td>180</td>\n",
       "      <td>2</td>\n",
       "      <td>-48.118195</td>\n",
       "      <td>-15.850772</td>\n",
       "      <td>Ceilândia</td>\n",
       "      <td>P Sul</td>\n",
       "    </tr>\n",
       "    <tr>\n",
       "      <th>2</th>\n",
       "      <td>cvrp-2-df-33</td>\n",
       "      <td>df-2</td>\n",
       "      <td>-48.054989</td>\n",
       "      <td>-15.838145</td>\n",
       "      <td>Taguatinga</td>\n",
       "      <td>Taguatinga</td>\n",
       "      <td>180</td>\n",
       "      <td>1</td>\n",
       "      <td>-48.112483</td>\n",
       "      <td>-15.847871</td>\n",
       "      <td>Ceilândia</td>\n",
       "      <td>P Sul</td>\n",
       "    </tr>\n",
       "    <tr>\n",
       "      <th>3</th>\n",
       "      <td>cvrp-2-df-33</td>\n",
       "      <td>df-2</td>\n",
       "      <td>-48.054989</td>\n",
       "      <td>-15.838145</td>\n",
       "      <td>Taguatinga</td>\n",
       "      <td>Taguatinga</td>\n",
       "      <td>180</td>\n",
       "      <td>2</td>\n",
       "      <td>-48.118023</td>\n",
       "      <td>-15.846471</td>\n",
       "      <td>Ceilândia</td>\n",
       "      <td>P Sul</td>\n",
       "    </tr>\n",
       "    <tr>\n",
       "      <th>4</th>\n",
       "      <td>cvrp-2-df-33</td>\n",
       "      <td>df-2</td>\n",
       "      <td>-48.054989</td>\n",
       "      <td>-15.838145</td>\n",
       "      <td>Taguatinga</td>\n",
       "      <td>Taguatinga</td>\n",
       "      <td>180</td>\n",
       "      <td>7</td>\n",
       "      <td>-48.114898</td>\n",
       "      <td>-15.858055</td>\n",
       "      <td>Sol Nascente/Pôr do Sol</td>\n",
       "      <td>Sol Nascente/Pôr do Sol</td>\n",
       "    </tr>\n",
       "  </tbody>\n",
       "</table>\n",
       "</div>"
      ],
      "text/plain": [
       "           name region    hub_lng    hub_lat    hub_city  hub_suburb  \\\n",
       "0  cvrp-2-df-33   df-2 -48.054989 -15.838145  Taguatinga  Taguatinga   \n",
       "1  cvrp-2-df-33   df-2 -48.054989 -15.838145  Taguatinga  Taguatinga   \n",
       "2  cvrp-2-df-33   df-2 -48.054989 -15.838145  Taguatinga  Taguatinga   \n",
       "3  cvrp-2-df-33   df-2 -48.054989 -15.838145  Taguatinga  Taguatinga   \n",
       "4  cvrp-2-df-33   df-2 -48.054989 -15.838145  Taguatinga  Taguatinga   \n",
       "\n",
       "   vehicle_capacity  delivery_size  delivery_lng  delivery_lat  \\\n",
       "0               180              9    -48.116189    -15.848929   \n",
       "1               180              2    -48.118195    -15.850772   \n",
       "2               180              1    -48.112483    -15.847871   \n",
       "3               180              2    -48.118023    -15.846471   \n",
       "4               180              7    -48.114898    -15.858055   \n",
       "\n",
       "             delivery_city          delivery_suburb  \n",
       "0                Ceilândia                    P Sul  \n",
       "1                Ceilândia                    P Sul  \n",
       "2                Ceilândia                    P Sul  \n",
       "3                Ceilândia                    P Sul  \n",
       "4  Sol Nascente/Pôr do Sol  Sol Nascente/Pôr do Sol  "
      ]
     },
     "execution_count": 13,
     "metadata": {},
     "output_type": "execute_result"
    }
   ],
   "source": [
    "deliveries_df = pd.merge(left=deliveries_df, right=deliveries_geodata_df[[\"delivery_city\", \"delivery_suburb\"]], how=\"inner\", left_index=True, right_index=True)\n",
    "deliveries_df.head()"
   ]
  },
  {
   "cell_type": "markdown",
   "id": "b1291386",
   "metadata": {
    "id": "9_eLWkkhvHNF",
    "papermill": {
     "duration": 0.015335,
     "end_time": "2023-08-29T03:19:20.276596",
     "exception": false,
     "start_time": "2023-08-29T03:19:20.261261",
     "status": "completed"
    },
    "tags": []
   },
   "source": [
    "### **Controle de Qualidade**"
   ]
  },
  {
   "cell_type": "code",
   "execution_count": 14,
   "id": "5326593d",
   "metadata": {
    "execution": {
     "iopub.execute_input": "2023-08-29T03:19:20.311314Z",
     "iopub.status.busy": "2023-08-29T03:19:20.310876Z",
     "iopub.status.idle": "2023-08-29T03:19:23.316288Z",
     "shell.execute_reply": "2023-08-29T03:19:23.314996Z"
    },
    "id": "HtOXyPLspFuy",
    "outputId": "77c1028d-7671-41fc-d85f-362bcaac581b",
    "papermill": {
     "duration": 3.026317,
     "end_time": "2023-08-29T03:19:23.319075",
     "exception": false,
     "start_time": "2023-08-29T03:19:20.292758",
     "status": "completed"
    },
    "tags": []
   },
   "outputs": [
    {
     "name": "stdout",
     "output_type": "stream",
     "text": [
      "<class 'pandas.core.frame.DataFrame'>\n",
      "Int64Index: 636149 entries, 0 to 636148\n",
      "Data columns (total 12 columns):\n",
      " #   Column            Non-Null Count   Dtype  \n",
      "---  ------            --------------   -----  \n",
      " 0   name              636149 non-null  object \n",
      " 1   region            636149 non-null  object \n",
      " 2   hub_lng           636149 non-null  float64\n",
      " 3   hub_lat           636149 non-null  float64\n",
      " 4   hub_city          636149 non-null  object \n",
      " 5   hub_suburb        636149 non-null  object \n",
      " 6   vehicle_capacity  636149 non-null  int64  \n",
      " 7   delivery_size     636149 non-null  int64  \n",
      " 8   delivery_lng      636149 non-null  float64\n",
      " 9   delivery_lat      636149 non-null  float64\n",
      " 10  delivery_city     634447 non-null  object \n",
      " 11  delivery_suburb   476264 non-null  object \n",
      "dtypes: float64(4), int64(2), object(6)\n",
      "memory usage: 79.2+ MB\n"
     ]
    },
    {
     "data": {
      "text/plain": [
       "delivery_suburb \n",
       "Brasília            0.084564\n",
       "Asa Norte           0.076639\n",
       "Taguatinga          0.063363\n",
       "Asa Sul             0.059263\n",
       "Águas Claras        0.056598\n",
       "Guará               0.055619\n",
       "Samambaia           0.026514\n",
       "Sobradinho          0.018148\n",
       "Recanto das Emas    0.015029\n",
       "P Sul               0.012807\n",
       "dtype: float64"
      ]
     },
     "execution_count": 14,
     "metadata": {},
     "output_type": "execute_result"
    }
   ],
   "source": [
    "# - controle de qualidade;\n",
    "deliveries_df.info()\n",
    "deliveries_df.isna().any()\n",
    "\n",
    "#- controle de qualidade Geocodificação reversa\n",
    "100 * (deliveries_df[\"delivery_city\"].isna().sum() / len(deliveries_df))\n",
    "100 * (deliveries_df[\"delivery_suburb\"].isna().sum() / len(deliveries_df))\n",
    "prop_df = deliveries_df[[\"delivery_city\"]].value_counts() / len(deliveries_df)\n",
    "prop_df.sort_values(ascending=False).head(10)\n",
    "prop_df = deliveries_df[[\"delivery_suburb\"]].value_counts() / len(deliveries_df)\n",
    "prop_df.sort_values(ascending=False).head(10)"
   ]
  },
  {
   "cell_type": "markdown",
   "id": "cd6809d2",
   "metadata": {
    "id": "KSgjP--1JS9R",
    "papermill": {
     "duration": 0.016457,
     "end_time": "2023-08-29T03:19:23.352449",
     "exception": false,
     "start_time": "2023-08-29T03:19:23.335992",
     "status": "completed"
    },
    "tags": []
   },
   "source": [
    "## 5\\. Visualização"
   ]
  },
  {
   "cell_type": "markdown",
   "id": "f397b7ba",
   "metadata": {
    "id": "RihCjK0kuEmW",
    "papermill": {
     "duration": 0.016076,
     "end_time": "2023-08-29T03:19:23.384543",
     "exception": false,
     "start_time": "2023-08-29T03:19:23.368467",
     "status": "completed"
    },
    "tags": []
   },
   "source": [
    "### **Mapa de entregas por região**"
   ]
  },
  {
   "cell_type": "markdown",
   "id": "43a39bb3",
   "metadata": {
    "id": "ZRptLwOfADJd",
    "papermill": {
     "duration": 0.01614,
     "end_time": "2023-08-29T03:19:23.417170",
     "exception": false,
     "start_time": "2023-08-29T03:19:23.401030",
     "status": "completed"
    },
    "tags": []
   },
   "source": [
    " - **Mapa do Distrito Federal**"
   ]
  },
  {
   "cell_type": "code",
   "execution_count": 15,
   "id": "94bf370f",
   "metadata": {
    "execution": {
     "iopub.execute_input": "2023-08-29T03:19:23.451551Z",
     "iopub.status.busy": "2023-08-29T03:19:23.451102Z",
     "iopub.status.idle": "2023-08-29T03:19:46.753289Z",
     "shell.execute_reply": "2023-08-29T03:19:46.751872Z"
    },
    "id": "YJ8k0E4NsPKg",
    "papermill": {
     "duration": 23.323244,
     "end_time": "2023-08-29T03:19:46.756384",
     "exception": false,
     "start_time": "2023-08-29T03:19:23.433140",
     "status": "completed"
    },
    "tags": []
   },
   "outputs": [],
   "source": [
    "!wget -q \"https://geoftp.ibge.gov.br/cartas_e_mapas/bases_cartograficas_continuas/bc100/go_df/versao2016/shapefile/bc100_go_df_shp.zip\" -O distrito-federal.zip\n",
    "!unzip -q distrito-federal.zip -d ./maps\n",
    "!cp ./maps/LIM_Unidade_Federacao_A.shp ./distrito-federal.shp\n",
    "!cp ./maps/LIM_Unidade_Federacao_A.shx ./distrito-federal.shx"
   ]
  },
  {
   "cell_type": "code",
   "execution_count": 16,
   "id": "c58f4501",
   "metadata": {
    "execution": {
     "iopub.execute_input": "2023-08-29T03:19:46.791721Z",
     "iopub.status.busy": "2023-08-29T03:19:46.790394Z",
     "iopub.status.idle": "2023-08-29T03:19:47.280325Z",
     "shell.execute_reply": "2023-08-29T03:19:47.279015Z"
    },
    "id": "F49YhyzwkN3T",
    "outputId": "0216c924-aafd-4463-b650-fc6461fee97e",
    "papermill": {
     "duration": 0.510435,
     "end_time": "2023-08-29T03:19:47.283020",
     "exception": false,
     "start_time": "2023-08-29T03:19:46.772585",
     "status": "completed"
    },
    "tags": []
   },
   "outputs": [
    {
     "data": {
      "text/html": [
       "<div>\n",
       "<style scoped>\n",
       "    .dataframe tbody tr th:only-of-type {\n",
       "        vertical-align: middle;\n",
       "    }\n",
       "\n",
       "    .dataframe tbody tr th {\n",
       "        vertical-align: top;\n",
       "    }\n",
       "\n",
       "    .dataframe thead th {\n",
       "        text-align: right;\n",
       "    }\n",
       "</style>\n",
       "<table border=\"1\" class=\"dataframe\">\n",
       "  <thead>\n",
       "    <tr style=\"text-align: right;\">\n",
       "      <th></th>\n",
       "      <th>geometry</th>\n",
       "    </tr>\n",
       "  </thead>\n",
       "  <tbody>\n",
       "    <tr>\n",
       "      <th>0</th>\n",
       "      <td>POLYGON Z ((-47.31048 -16.03602 0.00000, -47.3...</td>\n",
       "    </tr>\n",
       "  </tbody>\n",
       "</table>\n",
       "</div>"
      ],
      "text/plain": [
       "                                            geometry\n",
       "0  POLYGON Z ((-47.31048 -16.03602 0.00000, -47.3..."
      ]
     },
     "execution_count": 16,
     "metadata": {},
     "output_type": "execute_result"
    }
   ],
   "source": [
    "mapa = geopandas.read_file(\"distrito-federal.shp\")\n",
    "mapa = mapa.loc[[0]]\n",
    "mapa.head()"
   ]
  },
  {
   "cell_type": "markdown",
   "id": "b4a0f3e6",
   "metadata": {
    "id": "42cLJXxSAceU",
    "papermill": {
     "duration": 0.015913,
     "end_time": "2023-08-29T03:19:47.315653",
     "exception": false,
     "start_time": "2023-08-29T03:19:47.299740",
     "status": "completed"
    },
    "tags": []
   },
   "source": [
    " - **Mapa dos Hubs**"
   ]
  },
  {
   "cell_type": "code",
   "execution_count": 17,
   "id": "6b4f2652",
   "metadata": {
    "execution": {
     "iopub.execute_input": "2023-08-29T03:19:47.349841Z",
     "iopub.status.busy": "2023-08-29T03:19:47.349433Z",
     "iopub.status.idle": "2023-08-29T03:19:47.480374Z",
     "shell.execute_reply": "2023-08-29T03:19:47.479088Z"
    },
    "id": "aJsYJvo1woDC",
    "outputId": "0153ac07-3f04-4394-8810-9546e1915e09",
    "papermill": {
     "duration": 0.151005,
     "end_time": "2023-08-29T03:19:47.482832",
     "exception": false,
     "start_time": "2023-08-29T03:19:47.331827",
     "status": "completed"
    },
    "tags": []
   },
   "outputs": [
    {
     "data": {
      "text/html": [
       "<div>\n",
       "<style scoped>\n",
       "    .dataframe tbody tr th:only-of-type {\n",
       "        vertical-align: middle;\n",
       "    }\n",
       "\n",
       "    .dataframe tbody tr th {\n",
       "        vertical-align: top;\n",
       "    }\n",
       "\n",
       "    .dataframe thead th {\n",
       "        text-align: right;\n",
       "    }\n",
       "</style>\n",
       "<table border=\"1\" class=\"dataframe\">\n",
       "  <thead>\n",
       "    <tr style=\"text-align: right;\">\n",
       "      <th></th>\n",
       "      <th>region</th>\n",
       "      <th>hub_lng</th>\n",
       "      <th>hub_lat</th>\n",
       "      <th>geometry</th>\n",
       "    </tr>\n",
       "  </thead>\n",
       "  <tbody>\n",
       "    <tr>\n",
       "      <th>0</th>\n",
       "      <td>df-2</td>\n",
       "      <td>-48.054989</td>\n",
       "      <td>-15.838145</td>\n",
       "      <td>POINT (-48.05499 -15.83814)</td>\n",
       "    </tr>\n",
       "    <tr>\n",
       "      <th>1</th>\n",
       "      <td>df-1</td>\n",
       "      <td>-47.893662</td>\n",
       "      <td>-15.805118</td>\n",
       "      <td>POINT (-47.89366 -15.80512)</td>\n",
       "    </tr>\n",
       "    <tr>\n",
       "      <th>2</th>\n",
       "      <td>df-0</td>\n",
       "      <td>-47.802665</td>\n",
       "      <td>-15.657014</td>\n",
       "      <td>POINT (-47.80266 -15.65701)</td>\n",
       "    </tr>\n",
       "  </tbody>\n",
       "</table>\n",
       "</div>"
      ],
      "text/plain": [
       "  region    hub_lng    hub_lat                     geometry\n",
       "0   df-2 -48.054989 -15.838145  POINT (-48.05499 -15.83814)\n",
       "1   df-1 -47.893662 -15.805118  POINT (-47.89366 -15.80512)\n",
       "2   df-0 -47.802665 -15.657014  POINT (-47.80266 -15.65701)"
      ]
     },
     "execution_count": 17,
     "metadata": {},
     "output_type": "execute_result"
    }
   ],
   "source": [
    "hub_df = deliveries_df[[\"region\", \"hub_lng\", \"hub_lat\"]].drop_duplicates().reset_index(drop=True)\n",
    "geo_hub_df = geopandas.GeoDataFrame(hub_df, geometry=geopandas.points_from_xy(hub_df[\"hub_lng\"], hub_df[\"hub_lat\"]))\n",
    "geo_hub_df.head()"
   ]
  },
  {
   "cell_type": "markdown",
   "id": "63a26fc0",
   "metadata": {
    "id": "4MpWhcpzAjMz",
    "papermill": {
     "duration": 0.016157,
     "end_time": "2023-08-29T03:19:47.515557",
     "exception": false,
     "start_time": "2023-08-29T03:19:47.499400",
     "status": "completed"
    },
    "tags": []
   },
   "source": [
    " - **Mapa das Entregas**"
   ]
  },
  {
   "cell_type": "code",
   "execution_count": 18,
   "id": "b92435c1",
   "metadata": {
    "execution": {
     "iopub.execute_input": "2023-08-29T03:19:47.550374Z",
     "iopub.status.busy": "2023-08-29T03:19:47.549896Z",
     "iopub.status.idle": "2023-08-29T03:20:23.736611Z",
     "shell.execute_reply": "2023-08-29T03:20:23.735420Z"
    },
    "id": "FQngwEG4AlxO",
    "outputId": "d136f8da-6dc5-4431-bd2d-6303c81c0b07",
    "papermill": {
     "duration": 36.22372,
     "end_time": "2023-08-29T03:20:23.755623",
     "exception": false,
     "start_time": "2023-08-29T03:19:47.531903",
     "status": "completed"
    },
    "tags": []
   },
   "outputs": [
    {
     "data": {
      "text/html": [
       "<div>\n",
       "<style scoped>\n",
       "    .dataframe tbody tr th:only-of-type {\n",
       "        vertical-align: middle;\n",
       "    }\n",
       "\n",
       "    .dataframe tbody tr th {\n",
       "        vertical-align: top;\n",
       "    }\n",
       "\n",
       "    .dataframe thead th {\n",
       "        text-align: right;\n",
       "    }\n",
       "</style>\n",
       "<table border=\"1\" class=\"dataframe\">\n",
       "  <thead>\n",
       "    <tr style=\"text-align: right;\">\n",
       "      <th></th>\n",
       "      <th>name</th>\n",
       "      <th>region</th>\n",
       "      <th>hub_lng</th>\n",
       "      <th>hub_lat</th>\n",
       "      <th>hub_city</th>\n",
       "      <th>hub_suburb</th>\n",
       "      <th>vehicle_capacity</th>\n",
       "      <th>delivery_size</th>\n",
       "      <th>delivery_lng</th>\n",
       "      <th>delivery_lat</th>\n",
       "      <th>delivery_city</th>\n",
       "      <th>delivery_suburb</th>\n",
       "      <th>geometry</th>\n",
       "    </tr>\n",
       "  </thead>\n",
       "  <tbody>\n",
       "    <tr>\n",
       "      <th>0</th>\n",
       "      <td>cvrp-2-df-33</td>\n",
       "      <td>df-2</td>\n",
       "      <td>-48.054989</td>\n",
       "      <td>-15.838145</td>\n",
       "      <td>Taguatinga</td>\n",
       "      <td>Taguatinga</td>\n",
       "      <td>180</td>\n",
       "      <td>9</td>\n",
       "      <td>-48.116189</td>\n",
       "      <td>-15.848929</td>\n",
       "      <td>Ceilândia</td>\n",
       "      <td>P Sul</td>\n",
       "      <td>POINT (-48.11619 -15.84893)</td>\n",
       "    </tr>\n",
       "    <tr>\n",
       "      <th>1</th>\n",
       "      <td>cvrp-2-df-33</td>\n",
       "      <td>df-2</td>\n",
       "      <td>-48.054989</td>\n",
       "      <td>-15.838145</td>\n",
       "      <td>Taguatinga</td>\n",
       "      <td>Taguatinga</td>\n",
       "      <td>180</td>\n",
       "      <td>2</td>\n",
       "      <td>-48.118195</td>\n",
       "      <td>-15.850772</td>\n",
       "      <td>Ceilândia</td>\n",
       "      <td>P Sul</td>\n",
       "      <td>POINT (-48.11819 -15.85077)</td>\n",
       "    </tr>\n",
       "    <tr>\n",
       "      <th>2</th>\n",
       "      <td>cvrp-2-df-33</td>\n",
       "      <td>df-2</td>\n",
       "      <td>-48.054989</td>\n",
       "      <td>-15.838145</td>\n",
       "      <td>Taguatinga</td>\n",
       "      <td>Taguatinga</td>\n",
       "      <td>180</td>\n",
       "      <td>1</td>\n",
       "      <td>-48.112483</td>\n",
       "      <td>-15.847871</td>\n",
       "      <td>Ceilândia</td>\n",
       "      <td>P Sul</td>\n",
       "      <td>POINT (-48.11248 -15.84787)</td>\n",
       "    </tr>\n",
       "    <tr>\n",
       "      <th>3</th>\n",
       "      <td>cvrp-2-df-33</td>\n",
       "      <td>df-2</td>\n",
       "      <td>-48.054989</td>\n",
       "      <td>-15.838145</td>\n",
       "      <td>Taguatinga</td>\n",
       "      <td>Taguatinga</td>\n",
       "      <td>180</td>\n",
       "      <td>2</td>\n",
       "      <td>-48.118023</td>\n",
       "      <td>-15.846471</td>\n",
       "      <td>Ceilândia</td>\n",
       "      <td>P Sul</td>\n",
       "      <td>POINT (-48.11802 -15.84647)</td>\n",
       "    </tr>\n",
       "    <tr>\n",
       "      <th>4</th>\n",
       "      <td>cvrp-2-df-33</td>\n",
       "      <td>df-2</td>\n",
       "      <td>-48.054989</td>\n",
       "      <td>-15.838145</td>\n",
       "      <td>Taguatinga</td>\n",
       "      <td>Taguatinga</td>\n",
       "      <td>180</td>\n",
       "      <td>7</td>\n",
       "      <td>-48.114898</td>\n",
       "      <td>-15.858055</td>\n",
       "      <td>Sol Nascente/Pôr do Sol</td>\n",
       "      <td>Sol Nascente/Pôr do Sol</td>\n",
       "      <td>POINT (-48.11490 -15.85805)</td>\n",
       "    </tr>\n",
       "  </tbody>\n",
       "</table>\n",
       "</div>"
      ],
      "text/plain": [
       "           name region    hub_lng    hub_lat    hub_city  hub_suburb  \\\n",
       "0  cvrp-2-df-33   df-2 -48.054989 -15.838145  Taguatinga  Taguatinga   \n",
       "1  cvrp-2-df-33   df-2 -48.054989 -15.838145  Taguatinga  Taguatinga   \n",
       "2  cvrp-2-df-33   df-2 -48.054989 -15.838145  Taguatinga  Taguatinga   \n",
       "3  cvrp-2-df-33   df-2 -48.054989 -15.838145  Taguatinga  Taguatinga   \n",
       "4  cvrp-2-df-33   df-2 -48.054989 -15.838145  Taguatinga  Taguatinga   \n",
       "\n",
       "   vehicle_capacity  delivery_size  delivery_lng  delivery_lat  \\\n",
       "0               180              9    -48.116189    -15.848929   \n",
       "1               180              2    -48.118195    -15.850772   \n",
       "2               180              1    -48.112483    -15.847871   \n",
       "3               180              2    -48.118023    -15.846471   \n",
       "4               180              7    -48.114898    -15.858055   \n",
       "\n",
       "             delivery_city          delivery_suburb  \\\n",
       "0                Ceilândia                    P Sul   \n",
       "1                Ceilândia                    P Sul   \n",
       "2                Ceilândia                    P Sul   \n",
       "3                Ceilândia                    P Sul   \n",
       "4  Sol Nascente/Pôr do Sol  Sol Nascente/Pôr do Sol   \n",
       "\n",
       "                      geometry  \n",
       "0  POINT (-48.11619 -15.84893)  \n",
       "1  POINT (-48.11819 -15.85077)  \n",
       "2  POINT (-48.11248 -15.84787)  \n",
       "3  POINT (-48.11802 -15.84647)  \n",
       "4  POINT (-48.11490 -15.85805)  "
      ]
     },
     "execution_count": 18,
     "metadata": {},
     "output_type": "execute_result"
    }
   ],
   "source": [
    "geo_deliveries_df = geopandas.GeoDataFrame(deliveries_df, geometry=geopandas.points_from_xy(deliveries_df[\"delivery_lng\"], deliveries_df[\"delivery_lat\"]))\n",
    "geo_deliveries_df.head()"
   ]
  },
  {
   "cell_type": "markdown",
   "id": "a1f91034",
   "metadata": {
    "id": "9zQeMsbcAuCU",
    "papermill": {
     "duration": 0.016585,
     "end_time": "2023-08-29T03:20:23.788980",
     "exception": false,
     "start_time": "2023-08-29T03:20:23.772395",
     "status": "completed"
    },
    "tags": []
   },
   "source": [
    " - **Visualização**"
   ]
  },
  {
   "cell_type": "code",
   "execution_count": 19,
   "id": "c787520f",
   "metadata": {
    "execution": {
     "iopub.execute_input": "2023-08-29T03:20:23.825746Z",
     "iopub.status.busy": "2023-08-29T03:20:23.825318Z",
     "iopub.status.idle": "2023-08-29T03:21:27.621298Z",
     "shell.execute_reply": "2023-08-29T03:21:27.620065Z"
    },
    "id": "cIjtboS5pJKY",
    "outputId": "b3452669-0822-4983-a212-69857209ac5f",
    "papermill": {
     "duration": 63.821014,
     "end_time": "2023-08-29T03:21:27.626839",
     "exception": false,
     "start_time": "2023-08-29T03:20:23.805825",
     "status": "completed"
    },
    "tags": []
   },
   "outputs": [
    {
     "name": "stderr",
     "output_type": "stream",
     "text": [
      "/tmp/ipykernel_20/1610039930.py:18: MatplotlibDeprecationWarning: The legendHandles attribute was deprecated in Matplotlib 3.7 and will be removed two minor releases later. Use legend_handles instead.\n",
      "  for handle in lgnd.legendHandles:\n"
     ]
    },
    {
     "data": {
      "image/png": "[encoded data removed]",
      "text/plain": [
       "<Figure size 1968.5x1968.5 with 1 Axes>"
      ]
     },
     "metadata": {},
     "output_type": "display_data"
    }
   ],
   "source": [
    "# cria o plot vazio\n",
    "fig, ax = plt.subplots(figsize = (50/2.54, 50/2.54))\n",
    "\n",
    "# plot mapa do distrito federal\n",
    "mapa.plot(ax=ax, alpha=0.4, color=\"lightgrey\")\n",
    "\n",
    "# plot das entregas\n",
    "geo_deliveries_df.query(\"region == 'df-0'\").plot(ax=ax, markersize=1, color=\"red\", label=\"df-0\")\n",
    "geo_deliveries_df.query(\"region == 'df-1'\").plot(ax=ax, markersize=1, color=\"blue\", label=\"df-1\")\n",
    "geo_deliveries_df.query(\"region == 'df-2'\").plot(ax=ax, markersize=1, color=\"seagreen\", label=\"df-2\")\n",
    "\n",
    "# plot dos hubs\n",
    "geo_hub_df.plot(ax=ax, markersize=30, marker=\"x\", color=\"black\", label=\"hub\")\n",
    "\n",
    "# plot da legenda\n",
    "plt.title(\"Entregas no Distrito Federal por Região\", fontdict={\"fontsize\": 16})\n",
    "lgnd = plt.legend(prop={\"size\": 15})\n",
    "for handle in lgnd.legendHandles:\n",
    "    handle.set_sizes([50])"
   ]
  },
  {
   "cell_type": "markdown",
   "id": "2ba8a033",
   "metadata": {
    "id": "mQBSQNICGmZi",
    "papermill": {
     "duration": 0.021172,
     "end_time": "2023-08-29T03:21:27.669828",
     "exception": false,
     "start_time": "2023-08-29T03:21:27.648656",
     "status": "completed"
    },
    "tags": []
   },
   "source": [
    " - **Insights**:"
   ]
  },
  {
   "cell_type": "markdown",
   "id": "6d5eddc7",
   "metadata": {
    "id": "GBWVvtTtMjrp",
    "papermill": {
     "duration": 0.02087,
     "end_time": "2023-08-29T03:21:27.711591",
     "exception": false,
     "start_time": "2023-08-29T03:21:27.690721",
     "status": "completed"
    },
    "tags": []
   },
   "source": [
    "1. As **entregas** estão corretamente alocadas aos seus respectivos **hubs**;\n",
    "1. Os **hubs** das regiões 0 e 2 fazem **entregas** em locais distantes do centro e entre si, o que pode gerar um tempo e preço de entrega maior."
   ]
  },
  {
   "cell_type": "markdown",
   "id": "3db0e14a",
   "metadata": {
    "id": "sl_r66SJJWit",
    "papermill": {
     "duration": 0.020551,
     "end_time": "2023-08-29T03:21:27.752970",
     "exception": false,
     "start_time": "2023-08-29T03:21:27.732419",
     "status": "completed"
    },
    "tags": []
   },
   "source": [
    "### **Gráfico de entregas por região**"
   ]
  },
  {
   "cell_type": "markdown",
   "id": "c515b17d",
   "metadata": {
    "id": "cW7Bv7zgGsEq",
    "papermill": {
     "duration": 0.020656,
     "end_time": "2023-08-29T03:21:27.794249",
     "exception": false,
     "start_time": "2023-08-29T03:21:27.773593",
     "status": "completed"
    },
    "tags": []
   },
   "source": [
    " - **Agregação**:"
   ]
  },
  {
   "cell_type": "code",
   "execution_count": 20,
   "id": "e7ebd798",
   "metadata": {
    "execution": {
     "iopub.execute_input": "2023-08-29T03:21:27.839196Z",
     "iopub.status.busy": "2023-08-29T03:21:27.838354Z",
     "iopub.status.idle": "2023-08-29T03:21:27.961699Z",
     "shell.execute_reply": "2023-08-29T03:21:27.960219Z"
    },
    "id": "azbMtPLeDRHQ",
    "outputId": "9aca985e-6847-47e3-cac7-77db8d752132",
    "papermill": {
     "duration": 0.148991,
     "end_time": "2023-08-29T03:21:27.964377",
     "exception": false,
     "start_time": "2023-08-29T03:21:27.815386",
     "status": "completed"
    },
    "tags": []
   },
   "outputs": [
    {
     "data": {
      "text/html": [
       "<div>\n",
       "<style scoped>\n",
       "    .dataframe tbody tr th:only-of-type {\n",
       "        vertical-align: middle;\n",
       "    }\n",
       "\n",
       "    .dataframe tbody tr th {\n",
       "        vertical-align: top;\n",
       "    }\n",
       "\n",
       "    .dataframe thead th {\n",
       "        text-align: right;\n",
       "    }\n",
       "</style>\n",
       "<table border=\"1\" class=\"dataframe\">\n",
       "  <thead>\n",
       "    <tr style=\"text-align: right;\">\n",
       "      <th></th>\n",
       "      <th>region</th>\n",
       "      <th>vehicle_capacity</th>\n",
       "      <th>region_percent</th>\n",
       "    </tr>\n",
       "  </thead>\n",
       "  <tbody>\n",
       "    <tr>\n",
       "      <th>0</th>\n",
       "      <td>df-1</td>\n",
       "      <td>180</td>\n",
       "      <td>0.478988</td>\n",
       "    </tr>\n",
       "    <tr>\n",
       "      <th>1</th>\n",
       "      <td>df-2</td>\n",
       "      <td>180</td>\n",
       "      <td>0.410783</td>\n",
       "    </tr>\n",
       "    <tr>\n",
       "      <th>2</th>\n",
       "      <td>df-0</td>\n",
       "      <td>180</td>\n",
       "      <td>0.110229</td>\n",
       "    </tr>\n",
       "  </tbody>\n",
       "</table>\n",
       "</div>"
      ],
      "text/plain": [
       "  region  vehicle_capacity  region_percent\n",
       "0   df-1               180        0.478988\n",
       "1   df-2               180        0.410783\n",
       "2   df-0               180        0.110229"
      ]
     },
     "execution_count": 20,
     "metadata": {},
     "output_type": "execute_result"
    }
   ],
   "source": [
    "data = pd.DataFrame(deliveries_df[['region', 'vehicle_capacity']].value_counts(normalize=True)).reset_index()\n",
    "data.rename(columns={0: \"region_percent\"}, inplace=True)\n",
    "data.head()"
   ]
  },
  {
   "cell_type": "markdown",
   "id": "5b11d2c0",
   "metadata": {
    "id": "6YVW68VGGt0R",
    "papermill": {
     "duration": 0.021705,
     "end_time": "2023-08-29T03:21:28.006914",
     "exception": false,
     "start_time": "2023-08-29T03:21:27.985209",
     "status": "completed"
    },
    "tags": []
   },
   "source": [
    " - **Visualização**:"
   ]
  },
  {
   "cell_type": "code",
   "execution_count": 21,
   "id": "6aa5b876",
   "metadata": {
    "execution": {
     "iopub.execute_input": "2023-08-29T03:21:28.051943Z",
     "iopub.status.busy": "2023-08-29T03:21:28.051512Z",
     "iopub.status.idle": "2023-08-29T03:21:28.413536Z",
     "shell.execute_reply": "2023-08-29T03:21:28.412186Z"
    },
    "id": "Fm78d-8puqHL",
    "outputId": "f745e081-2341-4271-cc61-661c4384fda3",
    "papermill": {
     "duration": 0.387427,
     "end_time": "2023-08-29T03:21:28.416392",
     "exception": false,
     "start_time": "2023-08-29T03:21:28.028965",
     "status": "completed"
    },
    "tags": []
   },
   "outputs": [
    {
     "name": "stderr",
     "output_type": "stream",
     "text": [
      "/tmp/ipykernel_20/2111424512.py:2: FutureWarning: \n",
      "\n",
      "The `ci` parameter is deprecated. Use `errorbar=None` for the same effect.\n",
      "\n",
      "  grafico = sns.barplot(data=data, x=\"region\", y=\"region_percent\", ci=None, palette=\"pastel\")\n"
     ]
    },
    {
     "data": {
      "image/png": "[encoded data removed]",
      "text/plain": [
       "<Figure size 640x480 with 1 Axes>"
      ]
     },
     "metadata": {},
     "output_type": "display_data"
    }
   ],
   "source": [
    "with sns.axes_style('whitegrid'):\n",
    "  grafico = sns.barplot(data=data, x=\"region\", y=\"region_percent\", ci=None, palette=\"pastel\")\n",
    "  grafico.set(title='Proporção de entregas por região', xlabel='Região', ylabel='Proporção');"
   ]
  },
  {
   "cell_type": "markdown",
   "id": "b60c09c0",
   "metadata": {
    "id": "GEUZAHwsGrCb",
    "papermill": {
     "duration": 0.021571,
     "end_time": "2023-08-29T03:21:28.459701",
     "exception": false,
     "start_time": "2023-08-29T03:21:28.438130",
     "status": "completed"
    },
    "tags": []
   },
   "source": [
    " - **Insights**:"
   ]
  },
  {
   "cell_type": "markdown",
   "id": "b89eae6e",
   "metadata": {
    "id": "YIBT4JKGL-YS",
    "papermill": {
     "duration": 0.021294,
     "end_time": "2023-08-29T03:21:28.502726",
     "exception": false,
     "start_time": "2023-08-29T03:21:28.481432",
     "status": "completed"
    },
    "tags": []
   },
   "source": [
    "1. A distribuição das **entregas** está muito concentrada nos **hubs** das regiões 1 e 2, mas pouco no da região 0. Contudo a capacidade dos veículos é mesma para todos os **hubs**, logo os **veículos** poderiam ser deslocados para as regiões de maior tráfego."
   ]
  }
 ],
 "metadata": {
  "kernelspec": {
   "display_name": "Python 3",
   "language": "python",
   "name": "python3"
  },
  "language_info": {
   "codemirror_mode": {
    "name": "ipython",
    "version": 3
   },
   "file_extension": ".py",
   "mimetype": "text/x-python",
   "name": "python",
   "nbconvert_exporter": "python",
   "pygments_lexer": "ipython3",
   "version": "3.10.12"
  },
  "papermill": {
   "default_parameters": {},
   "duration": 187.899198,
   "end_time": "2023-08-29T03:21:31.249145",
   "environment_variables": {},
   "exception": null,
   "input_path": "__notebook__.ipynb",
   "output_path": "__notebook__.ipynb",
   "parameters": {},
   "start_time": "2023-08-29T03:18:23.349947",
   "version": "2.4.0"
  }
 },
 "nbformat": 4,
 "nbformat_minor": 5
}
